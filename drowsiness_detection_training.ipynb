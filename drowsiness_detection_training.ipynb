{
 "cells": [
  {
   "cell_type": "code",
   "execution_count": 9,
   "metadata": {
    "execution": {
     "iopub.execute_input": "2022-10-31T14:21:22.960284Z",
     "iopub.status.busy": "2022-10-31T14:21:22.959502Z",
     "iopub.status.idle": "2022-10-31T14:21:33.120129Z",
     "shell.execute_reply": "2022-10-31T14:21:33.121208Z",
     "shell.execute_reply.started": "2022-10-31T13:25:34.534047Z"
    },
    "papermill": {
     "duration": 10.185314,
     "end_time": "2022-10-31T14:21:33.121616",
     "exception": false,
     "start_time": "2022-10-31T14:21:22.936302",
     "status": "completed"
    },
    "tags": []
   },
   "outputs": [],
   "source": [
    "import matplotlib.pyplot as plt\n",
    "import numpy as np\n",
    "import PIL\n",
    "import tensorflow as tf\n",
    "from tensorflow.keras.layers import Dense, GlobalAveragePooling2D, Dropout, Flatten, Conv2D, MaxPooling2D\n",
    "from tensorflow.keras.models import Sequential\n",
    "from tensorflow.keras.optimizers import Adam"
   ]
  },
  {
   "cell_type": "code",
   "execution_count": 10,
   "metadata": {
    "execution": {
     "iopub.execute_input": "2022-10-31T14:21:33.183497Z",
     "iopub.status.busy": "2022-10-31T14:21:33.182547Z",
     "iopub.status.idle": "2022-10-31T14:22:23.498606Z",
     "shell.execute_reply": "2022-10-31T14:22:23.497763Z",
     "shell.execute_reply.started": "2022-10-31T13:25:36.294697Z"
    },
    "papermill": {
     "duration": 50.349967,
     "end_time": "2022-10-31T14:22:23.498779",
     "exception": false,
     "start_time": "2022-10-31T14:21:33.148812",
     "status": "completed"
    },
    "scrolled": true,
    "tags": []
   },
   "outputs": [
    {
     "name": "stdout",
     "output_type": "stream",
     "text": [
      "Found 16000 images belonging to 2 classes.\n",
      "Found 4000 images belonging to 2 classes.\n"
     ]
    }
   ],
   "source": [
    "from tensorflow.keras.preprocessing.image import ImageDataGenerator\n",
    "data_dir = r\"C:\\Users\\tarak\\Downloads\\drowsiness-detection-main\\Dataset\\Train_Dataset\"\n",
    "train_datagen = ImageDataGenerator(validation_split=0.2) # don't use rescale = 1./255\n",
    "\n",
    "train_generator = train_datagen.flow_from_directory( data_dir,\n",
    "                                                     target_size=(32,32),\n",
    "                                                     batch_size=32,\n",
    "                                                     shuffle=True,\n",
    "                                                     class_mode='categorical',\n",
    "                                                     subset='training')\n",
    "\n",
    "validation_datagen = ImageDataGenerator(validation_split=0.2)\n",
    "\n",
    "validation_generator =  validation_datagen.flow_from_directory( data_dir,\n",
    "                                                                target_size=(32,32),\n",
    "                                                                batch_size=32,\n",
    "                                                                class_mode='categorical',\n",
    "                                                                subset='validation')   "
   ]
  },
  {
   "cell_type": "code",
   "execution_count": 5,
   "metadata": {
    "execution": {
     "iopub.execute_input": "2022-10-31T14:22:23.539643Z",
     "iopub.status.busy": "2022-10-31T14:22:23.539080Z",
     "iopub.status.idle": "2022-10-31T14:22:28.836156Z",
     "shell.execute_reply": "2022-10-31T14:22:28.835538Z",
     "shell.execute_reply.started": "2022-10-31T13:33:47.487962Z"
    },
    "papermill": {
     "duration": 5.320056,
     "end_time": "2022-10-31T14:22:28.836302",
     "exception": false,
     "start_time": "2022-10-31T14:22:23.516246",
     "status": "completed"
    },
    "tags": []
   },
   "outputs": [],
   "source": [
    "cnn_model = Sequential([\n",
    "    Conv2D(32, kernel_size=(3, 3), activation='relu', input_shape=(32,32,3)),\n",
    "    MaxPooling2D(pool_size=(1,1)),\n",
    "    Conv2D(32,(3,3),activation='relu'),\n",
    "    MaxPooling2D(pool_size=(1,1)),\n",
    "#32 convolution filters used each of size 3x3\n",
    "#again\n",
    "    Conv2D(64, (3, 3), activation='relu'),\n",
    "    MaxPooling2D(pool_size=(1,1)),\n",
    "\n",
    "#64 convolution filters used each of size 3x3\n",
    "#choose the best features via pooling\n",
    "    \n",
    "#randomly turn neurons on and off to improve convergence\n",
    "    Dropout(0.25),\n",
    "#flatten since too many dimensions, we only want a classification output\n",
    "    Flatten(),\n",
    "#fully connected to get all relevant data\n",
    "    Dense(128, activation='relu'),\n",
    "#one more dropout for convergence' sake :) \n",
    "#    Dropout(0.5),\n",
    "#output a softmax to squash the matrix into output probabilities\n",
    "    Dense(2, activation='softmax')\n",
    "])"
   ]
  },
  {
   "cell_type": "code",
   "execution_count": 6,
   "metadata": {
    "execution": {
     "iopub.execute_input": "2022-11-01T15:10:16.914055Z",
     "iopub.status.busy": "2022-11-01T15:10:16.913594Z",
     "iopub.status.idle": "2022-11-01T15:10:16.942802Z",
     "shell.execute_reply": "2022-11-01T15:10:16.942007Z",
     "shell.execute_reply.started": "2022-11-01T15:10:16.914014Z"
    }
   },
   "outputs": [],
   "source": [
    "cnn_model.compile(optimizer='adam',loss='categorical_crossentropy',metrics=[tf.keras.metrics.CategoricalAccuracy(),tf.keras.metrics.Precision(), tf.keras.metrics.Recall()])"
   ]
  },
  {
   "cell_type": "code",
   "execution_count": 7,
   "metadata": {
    "execution": {
     "iopub.execute_input": "2022-11-01T15:10:31.631652Z",
     "iopub.status.busy": "2022-11-01T15:10:31.631265Z",
     "iopub.status.idle": "2022-11-01T15:10:31.638934Z",
     "shell.execute_reply": "2022-11-01T15:10:31.637755Z",
     "shell.execute_reply.started": "2022-11-01T15:10:31.631617Z"
    },
    "scrolled": true
   },
   "outputs": [
    {
     "name": "stdout",
     "output_type": "stream",
     "text": [
      "Model: \"sequential\"\n",
      "_________________________________________________________________\n",
      " Layer (type)                Output Shape              Param #   \n",
      "=================================================================\n",
      " conv2d (Conv2D)             (None, 30, 30, 32)        896       \n",
      "                                                                 \n",
      " max_pooling2d (MaxPooling2D  (None, 30, 30, 32)       0         \n",
      " )                                                               \n",
      "                                                                 \n",
      " conv2d_1 (Conv2D)           (None, 28, 28, 32)        9248      \n",
      "                                                                 \n",
      " max_pooling2d_1 (MaxPooling  (None, 28, 28, 32)       0         \n",
      " 2D)                                                             \n",
      "                                                                 \n",
      " conv2d_2 (Conv2D)           (None, 26, 26, 64)        18496     \n",
      "                                                                 \n",
      " max_pooling2d_2 (MaxPooling  (None, 26, 26, 64)       0         \n",
      " 2D)                                                             \n",
      "                                                                 \n",
      " dropout (Dropout)           (None, 26, 26, 64)        0         \n",
      "                                                                 \n",
      " flatten (Flatten)           (None, 43264)             0         \n",
      "                                                                 \n",
      " dense (Dense)               (None, 128)               5537920   \n",
      "                                                                 \n",
      " dense_1 (Dense)             (None, 2)                 258       \n",
      "                                                                 \n",
      "=================================================================\n",
      "Total params: 5,566,818\n",
      "Trainable params: 5,566,818\n",
      "Non-trainable params: 0\n",
      "_________________________________________________________________\n"
     ]
    }
   ],
   "source": [
    "cnn_model.summary()"
   ]
  },
  {
   "cell_type": "code",
   "execution_count": 8,
   "metadata": {
    "execution": {
     "iopub.execute_input": "2022-11-01T15:10:39.801931Z",
     "iopub.status.busy": "2022-11-01T15:10:39.801560Z",
     "iopub.status.idle": "2022-11-01T15:28:31.407354Z",
     "shell.execute_reply": "2022-11-01T15:28:31.406293Z",
     "shell.execute_reply.started": "2022-11-01T15:10:39.801899Z"
    }
   },
   "outputs": [
    {
     "name": "stdout",
     "output_type": "stream",
     "text": [
      "Epoch 1/10\n",
      "500/500 [==============================] - 173s 344ms/step - loss: 1.4675 - categorical_accuracy: 0.8896 - precision: 0.8896 - recall: 0.8896 - val_loss: 0.5161 - val_categorical_accuracy: 0.8092 - val_precision: 0.8092 - val_recall: 0.8092\n",
      "Epoch 2/10\n",
      "500/500 [==============================] - 71s 142ms/step - loss: 0.1433 - categorical_accuracy: 0.9479 - precision: 0.9479 - recall: 0.9479 - val_loss: 0.3876 - val_categorical_accuracy: 0.8622 - val_precision: 0.8622 - val_recall: 0.8622\n",
      "Epoch 3/10\n",
      "500/500 [==============================] - 73s 145ms/step - loss: 0.1140 - categorical_accuracy: 0.9582 - precision: 0.9582 - recall: 0.9582 - val_loss: 0.3431 - val_categorical_accuracy: 0.8988 - val_precision: 0.8988 - val_recall: 0.8988\n",
      "Epoch 4/10\n",
      "500/500 [==============================] - 72s 145ms/step - loss: 0.0846 - categorical_accuracy: 0.9696 - precision: 0.9696 - recall: 0.9696 - val_loss: 0.5302 - val_categorical_accuracy: 0.8865 - val_precision: 0.8865 - val_recall: 0.8865\n",
      "Epoch 5/10\n",
      "500/500 [==============================] - 70s 141ms/step - loss: 0.0719 - categorical_accuracy: 0.9745 - precision: 0.9745 - recall: 0.9745 - val_loss: 0.9027 - val_categorical_accuracy: 0.8537 - val_precision: 0.8537 - val_recall: 0.8537\n",
      "Epoch 6/10\n",
      "500/500 [==============================] - 70s 140ms/step - loss: 0.0708 - categorical_accuracy: 0.9741 - precision: 0.9741 - recall: 0.9741 - val_loss: 0.3374 - val_categorical_accuracy: 0.9145 - val_precision: 0.9145 - val_recall: 0.9145\n",
      "Epoch 7/10\n",
      "500/500 [==============================] - 71s 141ms/step - loss: 0.0586 - categorical_accuracy: 0.9796 - precision: 0.9796 - recall: 0.9796 - val_loss: 1.0287 - val_categorical_accuracy: 0.8273 - val_precision: 0.8273 - val_recall: 0.8273\n",
      "Epoch 8/10\n",
      "500/500 [==============================] - 71s 141ms/step - loss: 0.0551 - categorical_accuracy: 0.9812 - precision: 0.9812 - recall: 0.9812 - val_loss: 0.6422 - val_categorical_accuracy: 0.8668 - val_precision: 0.8668 - val_recall: 0.8668\n",
      "Epoch 9/10\n",
      "500/500 [==============================] - 70s 140ms/step - loss: 0.0582 - categorical_accuracy: 0.9805 - precision: 0.9805 - recall: 0.9805 - val_loss: 0.5472 - val_categorical_accuracy: 0.8650 - val_precision: 0.8650 - val_recall: 0.8650\n",
      "Epoch 10/10\n",
      "500/500 [==============================] - 71s 142ms/step - loss: 0.0409 - categorical_accuracy: 0.9869 - precision: 0.9869 - recall: 0.9869 - val_loss: 0.5480 - val_categorical_accuracy: 0.8827 - val_precision: 0.8827 - val_recall: 0.8827\n"
     ]
    }
   ],
   "source": [
    "history = cnn_model.fit(train_generator, validation_data=validation_generator, epochs=10)"
   ]
  },
  {
   "cell_type": "code",
   "execution_count": 9,
   "metadata": {
    "execution": {
     "iopub.execute_input": "2022-11-01T15:32:41.945494Z",
     "iopub.status.busy": "2022-11-01T15:32:41.945133Z",
     "iopub.status.idle": "2022-11-01T15:32:42.174247Z",
     "shell.execute_reply": "2022-11-01T15:32:42.173329Z",
     "shell.execute_reply.started": "2022-11-01T15:32:41.945460Z"
    }
   },
   "outputs": [
    {
     "data": {
      "image/png": "[encoded data removed]",
      "text/plain": [
       "<Figure size 640x480 with 1 Axes>"
      ]
     },
     "metadata": {},
     "output_type": "display_data"
    }
   ],
   "source": [
    "fig1 = plt.gcf()\n",
    "plt.plot(history.history['categorical_accuracy'])\n",
    "plt.plot(history.history['val_categorical_accuracy'])\n",
    "plt.axis(ymin=0.4,ymax=1)\n",
    "plt.grid()\n",
    "plt.title('Model Accuracy')\n",
    "plt.ylabel('Accuracy')\n",
    "plt.xlabel('Epochs')\n",
    "plt.legend(['train', 'validation'])\n",
    "plt.show()"
   ]
  },
  {
   "cell_type": "code",
   "execution_count": 10,
   "metadata": {
    "execution": {
     "iopub.status.busy": "2022-10-31T17:27:53.255065Z",
     "iopub.status.idle": "2022-10-31T17:27:53.255690Z"
    }
   },
   "outputs": [],
   "source": [
    "import cv2\n",
    "img_height, img_width = 32,32\n",
    "image=cv2.imread(r\"C:\\Users\\rahul\\drowsiness-detection-main\\Dataset\\Test_Dataset\\Closed_Eyes\\s0012_00001_0_0_0_0_0_01.png\")\n",
    "image_resized= cv2.resize(image, (img_height,img_width))\n",
    "image=np.expand_dims(image_resized,axis=0)"
   ]
  },
  {
   "cell_type": "code",
   "execution_count": 11,
   "metadata": {
    "execution": {
     "iopub.execute_input": "2022-11-01T15:39:18.310880Z",
     "iopub.status.busy": "2022-11-01T15:39:18.310521Z",
     "iopub.status.idle": "2022-11-01T15:39:18.459758Z",
     "shell.execute_reply": "2022-11-01T15:39:18.458822Z",
     "shell.execute_reply.started": "2022-11-01T15:39:18.310846Z"
    }
   },
   "outputs": [
    {
     "name": "stdout",
     "output_type": "stream",
     "text": [
      "(103, 103, 3)\n",
      "(103, 103, 3)\n",
      "(32, 32, 3)\n",
      "(1, 32, 32, 3)\n",
      "1/1 [==============================] - 0s 150ms/step\n"
     ]
    }
   ],
   "source": [
    "import cv2\n",
    "img_height, img_width = 32,32\n",
    "image=cv2.imread(r\"C:\\Users\\rahul\\drowsiness-detection-main\\Dataset\\Test_Dataset\\Closed_Eyes\\s0012_00001_0_0_0_0_0_01.png\")\n",
    "print(image.shape)\n",
    "r_eye = cv2.cvtColor(image,cv2.COLOR_BGR2RGB)\n",
    "print(r_eye.shape)\n",
    "r_eye = cv2.resize(r_eye, (img_height,img_width))\n",
    "print(r_eye.shape)\n",
    "#r_eye= r_eye/255\n",
    "r_eye=  r_eye.reshape((-1, 32, 32, 3))\n",
    "print(r_eye.shape)\n",
    "#r_eye = np.expand_dims(r_eye,axis=0)\n",
    "pred=cnn_model.predict(r_eye)"
   ]
  },
  {
   "cell_type": "code",
   "execution_count": 12,
   "metadata": {
    "execution": {
     "iopub.execute_input": "2022-11-01T15:39:41.152099Z",
     "iopub.status.busy": "2022-11-01T15:39:41.151656Z",
     "iopub.status.idle": "2022-11-01T15:39:41.163979Z",
     "shell.execute_reply": "2022-11-01T15:39:41.162957Z",
     "shell.execute_reply.started": "2022-11-01T15:39:41.152050Z"
    }
   },
   "outputs": [
    {
     "data": {
      "text/plain": [
       "0"
      ]
     },
     "execution_count": 12,
     "metadata": {},
     "output_type": "execute_result"
    }
   ],
   "source": [
    "np.argmax(pred)"
   ]
  },
  {
   "cell_type": "code",
   "execution_count": 13,
   "metadata": {
    "execution": {
     "iopub.execute_input": "2022-10-31T14:39:22.034271Z",
     "iopub.status.busy": "2022-10-31T14:39:22.033670Z",
     "iopub.status.idle": "2022-10-31T14:39:22.427469Z",
     "shell.execute_reply": "2022-10-31T14:39:22.426993Z"
    },
    "papermill": {
     "duration": 2.888266,
     "end_time": "2022-10-31T14:39:22.427613",
     "exception": false,
     "start_time": "2022-10-31T14:39:19.539347",
     "status": "completed"
    },
    "tags": []
   },
   "outputs": [],
   "source": [
    "import cv2\n",
    "img_height, img_width = 32,32\n",
    "image=cv2.imread(r\"C:\\Users\\rahul\\drowsiness-detection-main\\Dataset\\Test_Dataset\\Closed_Eyes\\s0012_00001_0_0_0_0_0_01.png\")\n",
    "image_resized= cv2.resize(image, (img_height,img_width))\n",
    "image=np.expand_dims(image_resized,axis=0)"
   ]
  },
  {
   "cell_type": "code",
   "execution_count": 14,
   "metadata": {
    "execution": {
     "iopub.execute_input": "2022-10-31T14:39:27.003351Z",
     "iopub.status.busy": "2022-10-31T14:39:27.002500Z",
     "iopub.status.idle": "2022-10-31T14:39:27.176533Z",
     "shell.execute_reply": "2022-10-31T14:39:27.176002Z"
    },
    "papermill": {
     "duration": 2.435033,
     "end_time": "2022-10-31T14:39:27.176668",
     "exception": false,
     "start_time": "2022-10-31T14:39:24.741635",
     "status": "completed"
    },
    "tags": []
   },
   "outputs": [
    {
     "name": "stdout",
     "output_type": "stream",
     "text": [
      "1/1 [==============================] - 0s 29ms/step\n"
     ]
    }
   ],
   "source": [
    "pred=cnn_model.predict(image)"
   ]
  },
  {
   "cell_type": "code",
   "execution_count": 15,
   "metadata": {
    "execution": {
     "iopub.execute_input": "2022-10-31T14:39:32.042624Z",
     "iopub.status.busy": "2022-10-31T14:39:32.041872Z",
     "iopub.status.idle": "2022-10-31T14:39:32.046377Z",
     "shell.execute_reply": "2022-10-31T14:39:32.045719Z"
    },
    "papermill": {
     "duration": 2.551144,
     "end_time": "2022-10-31T14:39:32.046540",
     "exception": false,
     "start_time": "2022-10-31T14:39:29.495396",
     "status": "completed"
    },
    "tags": []
   },
   "outputs": [
    {
     "name": "stdout",
     "output_type": "stream",
     "text": [
      "The predicted class is 0\n"
     ]
    }
   ],
   "source": [
    "output_class=np.argmax(pred)\n",
    "print(\"The predicted class is\", output_class)\n",
    "# 0 is close 1 is open"
   ]
  },
  {
   "cell_type": "code",
   "execution_count": 16,
   "metadata": {
    "execution": {
     "iopub.execute_input": "2022-10-31T14:39:37.296120Z",
     "iopub.status.busy": "2022-10-31T14:39:37.295240Z",
     "iopub.status.idle": "2022-10-31T14:39:37.421919Z",
     "shell.execute_reply": "2022-10-31T14:39:37.422845Z"
    },
    "papermill": {
     "duration": 3.064911,
     "end_time": "2022-10-31T14:39:37.423029",
     "exception": false,
     "start_time": "2022-10-31T14:39:34.358118",
     "status": "completed"
    },
    "tags": []
   },
   "outputs": [],
   "source": [
    "cnn_model.save(\"./cnn.h5\")"
   ]
  },
  {
   "cell_type": "code",
   "execution_count": 17,
   "metadata": {
    "execution": {
     "iopub.execute_input": "2022-10-31T14:39:42.318049Z",
     "iopub.status.busy": "2022-10-31T14:39:42.317441Z",
     "iopub.status.idle": "2022-10-31T14:39:42.675745Z",
     "shell.execute_reply": "2022-10-31T14:39:42.676218Z"
    },
    "papermill": {
     "duration": 2.908263,
     "end_time": "2022-10-31T14:39:42.676383",
     "exception": false,
     "start_time": "2022-10-31T14:39:39.768120",
     "status": "completed"
    },
    "tags": []
   },
   "outputs": [
    {
     "name": "stdout",
     "output_type": "stream",
     "text": [
      "1/1 [==============================] - 0s 89ms/step\n",
      "[0]\n"
     ]
    }
   ],
   "source": [
    "from keras.models import load_model\n",
    "test_model = load_model('./cnn.h5')\n",
    "pred = np.argmax(test_model.predict(image), axis=-1)\n",
    "print(pred)"
   ]
  },
  {
   "cell_type": "code",
   "execution_count": 18,
   "metadata": {
    "execution": {
     "iopub.execute_input": "2022-10-31T14:39:47.239409Z",
     "iopub.status.busy": "2022-10-31T14:39:47.238529Z",
     "iopub.status.idle": "2022-10-31T14:39:49.667439Z",
     "shell.execute_reply": "2022-10-31T14:39:49.666602Z",
     "shell.execute_reply.started": "2022-10-31T13:45:01.699003Z"
    },
    "papermill": {
     "duration": 4.725982,
     "end_time": "2022-10-31T14:39:49.667593",
     "exception": false,
     "start_time": "2022-10-31T14:39:44.941611",
     "status": "completed"
    },
    "tags": []
   },
   "outputs": [],
   "source": [
    "resnet50_model = Sequential()\n",
    "\n",
    "pretrained_model= tf.keras.applications.ResNet50(include_top=False,\n",
    "                   input_shape=(32,32,3),\n",
    "                   pooling='avg',classes=2,\n",
    "                   weights= 'imagenet')\n",
    "for layer in pretrained_model.layers:\n",
    "        layer.trainable=False\n",
    "\n",
    "resnet50_model.add(pretrained_model)"
   ]
  },
  {
   "cell_type": "code",
   "execution_count": 19,
   "metadata": {
    "execution": {
     "iopub.execute_input": "2022-10-31T14:39:54.518522Z",
     "iopub.status.busy": "2022-10-31T14:39:54.517534Z",
     "iopub.status.idle": "2022-10-31T14:39:54.536344Z",
     "shell.execute_reply": "2022-10-31T14:39:54.535896Z",
     "shell.execute_reply.started": "2022-10-31T13:45:03.598988Z"
    },
    "papermill": {
     "duration": 2.524419,
     "end_time": "2022-10-31T14:39:54.536479",
     "exception": false,
     "start_time": "2022-10-31T14:39:52.012060",
     "status": "completed"
    },
    "tags": []
   },
   "outputs": [],
   "source": [
    "resnet50_model.add(Flatten())\n",
    "resnet50_model.add(Dense(128, activation='relu'))\n",
    "resnet50_model.add(Dense(2, activation='softmax'))"
   ]
  },
  {
   "cell_type": "code",
   "execution_count": 20,
   "metadata": {
    "execution": {
     "iopub.execute_input": "2022-10-31T14:39:59.244816Z",
     "iopub.status.busy": "2022-10-31T14:39:59.239708Z",
     "iopub.status.idle": "2022-10-31T14:39:59.250986Z",
     "shell.execute_reply": "2022-10-31T14:39:59.251511Z",
     "shell.execute_reply.started": "2022-10-31T13:45:06.211082Z"
    },
    "papermill": {
     "duration": 2.394806,
     "end_time": "2022-10-31T14:39:59.251718",
     "exception": false,
     "start_time": "2022-10-31T14:39:56.856912",
     "status": "completed"
    },
    "tags": []
   },
   "outputs": [
    {
     "name": "stdout",
     "output_type": "stream",
     "text": [
      "Model: \"sequential_1\"\n",
      "_________________________________________________________________\n",
      " Layer (type)                Output Shape              Param #   \n",
      "=================================================================\n",
      " resnet50 (Functional)       (None, 2048)              23587712  \n",
      "                                                                 \n",
      " flatten_1 (Flatten)         (None, 2048)              0         \n",
      "                                                                 \n",
      " dense_2 (Dense)             (None, 128)               262272    \n",
      "                                                                 \n",
      " dense_3 (Dense)             (None, 2)                 258       \n",
      "                                                                 \n",
      "=================================================================\n",
      "Total params: 23,850,242\n",
      "Trainable params: 262,530\n",
      "Non-trainable params: 23,587,712\n",
      "_________________________________________________________________\n"
     ]
    }
   ],
   "source": [
    "resnet50_model.summary()"
   ]
  },
  {
   "cell_type": "code",
   "execution_count": 21,
   "metadata": {
    "execution": {
     "iopub.execute_input": "2022-10-31T14:40:03.995185Z",
     "iopub.status.busy": "2022-10-31T14:40:03.994323Z",
     "iopub.status.idle": "2022-10-31T14:53:52.891591Z",
     "shell.execute_reply": "2022-10-31T14:53:52.891124Z",
     "shell.execute_reply.started": "2022-10-31T13:45:06.505400Z"
    },
    "papermill": {
     "duration": 831.302499,
     "end_time": "2022-10-31T14:53:52.891771",
     "exception": false,
     "start_time": "2022-10-31T14:40:01.589272",
     "status": "completed"
    },
    "tags": []
   },
   "outputs": [
    {
     "name": "stdout",
     "output_type": "stream",
     "text": [
      "Epoch 1/10\n",
      "500/500 [==============================] - 61s 114ms/step - loss: 0.1656 - categorical_accuracy: 0.9431 - precision_1: 0.9431 - recall_1: 0.9431 - val_loss: 0.3619 - val_categorical_accuracy: 0.8817 - val_precision_1: 0.8817 - val_recall_1: 0.8817\n",
      "Epoch 2/10\n",
      "500/500 [==============================] - 55s 110ms/step - loss: 0.0821 - categorical_accuracy: 0.9707 - precision_1: 0.9707 - recall_1: 0.9707 - val_loss: 0.4680 - val_categorical_accuracy: 0.8698 - val_precision_1: 0.8698 - val_recall_1: 0.8698\n",
      "Epoch 3/10\n",
      "500/500 [==============================] - 56s 111ms/step - loss: 0.0567 - categorical_accuracy: 0.9800 - precision_1: 0.9800 - recall_1: 0.9800 - val_loss: 0.7320 - val_categorical_accuracy: 0.8117 - val_precision_1: 0.8117 - val_recall_1: 0.8117\n",
      "Epoch 4/10\n",
      "500/500 [==============================] - 56s 112ms/step - loss: 0.0493 - categorical_accuracy: 0.9833 - precision_1: 0.9833 - recall_1: 0.9833 - val_loss: 0.6519 - val_categorical_accuracy: 0.8462 - val_precision_1: 0.8462 - val_recall_1: 0.8462\n",
      "Epoch 5/10\n",
      "500/500 [==============================] - 55s 110ms/step - loss: 0.0399 - categorical_accuracy: 0.9851 - precision_1: 0.9851 - recall_1: 0.9851 - val_loss: 0.6407 - val_categorical_accuracy: 0.8712 - val_precision_1: 0.8712 - val_recall_1: 0.8712\n",
      "Epoch 6/10\n",
      "500/500 [==============================] - 56s 111ms/step - loss: 0.0329 - categorical_accuracy: 0.9877 - precision_1: 0.9877 - recall_1: 0.9877 - val_loss: 0.7546 - val_categorical_accuracy: 0.8310 - val_precision_1: 0.8310 - val_recall_1: 0.8310\n",
      "Epoch 7/10\n",
      "500/500 [==============================] - 55s 111ms/step - loss: 0.0296 - categorical_accuracy: 0.9892 - precision_1: 0.9892 - recall_1: 0.9892 - val_loss: 0.6570 - val_categorical_accuracy: 0.8795 - val_precision_1: 0.8795 - val_recall_1: 0.8795\n",
      "Epoch 8/10\n",
      "500/500 [==============================] - 55s 111ms/step - loss: 0.0274 - categorical_accuracy: 0.9910 - precision_1: 0.9910 - recall_1: 0.9910 - val_loss: 0.8476 - val_categorical_accuracy: 0.8597 - val_precision_1: 0.8597 - val_recall_1: 0.8597\n",
      "Epoch 9/10\n",
      "500/500 [==============================] - 55s 110ms/step - loss: 0.0203 - categorical_accuracy: 0.9936 - precision_1: 0.9936 - recall_1: 0.9936 - val_loss: 0.8010 - val_categorical_accuracy: 0.8618 - val_precision_1: 0.8618 - val_recall_1: 0.8618\n",
      "Epoch 10/10\n",
      "500/500 [==============================] - 56s 112ms/step - loss: 0.0200 - categorical_accuracy: 0.9931 - precision_1: 0.9931 - recall_1: 0.9931 - val_loss: 0.9224 - val_categorical_accuracy: 0.8447 - val_precision_1: 0.8447 - val_recall_1: 0.8447\n"
     ]
    }
   ],
   "source": [
    "resnet50_model.compile(optimizer=Adam(learning_rate=0.001),loss='categorical_crossentropy',metrics=[tf.keras.metrics.CategoricalAccuracy(),tf.keras.metrics.Precision(), tf.keras.metrics.Recall()])\n",
    "history = resnet50_model.fit(train_generator, validation_data=validation_generator, epochs=10)"
   ]
  },
  {
   "cell_type": "code",
   "execution_count": 22,
   "metadata": {
    "execution": {
     "iopub.execute_input": "2022-10-31T14:54:03.533634Z",
     "iopub.status.busy": "2022-10-31T14:54:03.526838Z",
     "iopub.status.idle": "2022-10-31T14:54:03.684230Z",
     "shell.execute_reply": "2022-10-31T14:54:03.684639Z",
     "shell.execute_reply.started": "2022-10-31T13:53:46.988990Z"
    },
    "papermill": {
     "duration": 5.315275,
     "end_time": "2022-10-31T14:54:03.684851",
     "exception": false,
     "start_time": "2022-10-31T14:53:58.369576",
     "status": "completed"
    },
    "tags": []
   },
   "outputs": [
    {
     "data": {
      "image/png": "[encoded data removed]",
      "text/plain": [
       "<Figure size 640x480 with 1 Axes>"
      ]
     },
     "metadata": {},
     "output_type": "display_data"
    }
   ],
   "source": [
    "fig1 = plt.gcf()\n",
    "plt.plot(history.history['categorical_accuracy'])\n",
    "plt.plot(history.history['val_categorical_accuracy'])\n",
    "plt.axis(ymin=0.4,ymax=1)\n",
    "plt.grid()\n",
    "plt.title('Model Accuracy')\n",
    "plt.ylabel('Accuracy')\n",
    "plt.xlabel('Epochs')\n",
    "plt.legend(['train', 'validation'])\n",
    "plt.show()"
   ]
  },
  {
   "cell_type": "code",
   "execution_count": 23,
   "metadata": {
    "execution": {
     "iopub.execute_input": "2022-10-31T14:54:14.732293Z",
     "iopub.status.busy": "2022-10-31T14:54:14.731442Z",
     "iopub.status.idle": "2022-10-31T14:54:15.104423Z",
     "shell.execute_reply": "2022-10-31T14:54:15.103467Z",
     "shell.execute_reply.started": "2022-10-31T13:53:19.651749Z"
    },
    "papermill": {
     "duration": 6.104609,
     "end_time": "2022-10-31T14:54:15.104571",
     "exception": false,
     "start_time": "2022-10-31T14:54:08.999962",
     "status": "completed"
    },
    "tags": []
   },
   "outputs": [],
   "source": [
    "resnet50_model.save(\"./resnet50.h5\")"
   ]
  },
  {
   "cell_type": "code",
   "execution_count": 24,
   "metadata": {
    "execution": {
     "iopub.execute_input": "2022-10-31T14:54:25.651243Z",
     "iopub.status.busy": "2022-10-31T14:54:25.650625Z",
     "iopub.status.idle": "2022-10-31T14:54:27.417853Z",
     "shell.execute_reply": "2022-10-31T14:54:27.418912Z",
     "shell.execute_reply.started": "2022-10-31T13:55:01.050151Z"
    },
    "papermill": {
     "duration": 6.970102,
     "end_time": "2022-10-31T14:54:27.419122",
     "exception": false,
     "start_time": "2022-10-31T14:54:20.449020",
     "status": "completed"
    },
    "tags": []
   },
   "outputs": [],
   "source": [
    "resnet50_model_regularized = Sequential()\n",
    "\n",
    "pretrained_model= tf.keras.applications.ResNet50(include_top=False,\n",
    "                   input_shape=(32,32,3),\n",
    "                   pooling='avg',classes=2,\n",
    "                   weights= 'imagenet')\n",
    "for layer in pretrained_model.layers:\n",
    "        layer.trainable=False\n",
    "\n",
    "resnet50_model_regularized.add(pretrained_model)"
   ]
  },
  {
   "cell_type": "code",
   "execution_count": 25,
   "metadata": {
    "execution": {
     "iopub.execute_input": "2022-10-31T14:54:37.885779Z",
     "iopub.status.busy": "2022-10-31T14:54:37.884893Z",
     "iopub.status.idle": "2022-10-31T14:54:37.905363Z",
     "shell.execute_reply": "2022-10-31T14:54:37.904895Z",
     "shell.execute_reply.started": "2022-10-31T13:55:03.012957Z"
    },
    "papermill": {
     "duration": 5.258552,
     "end_time": "2022-10-31T14:54:37.905505",
     "exception": false,
     "start_time": "2022-10-31T14:54:32.646953",
     "status": "completed"
    },
    "tags": []
   },
   "outputs": [],
   "source": [
    "resnet50_model_regularized.add(Flatten())\n",
    "resnet50_model_regularized.add(Dense(128, activation='relu'))\n",
    "resnet50_model_regularized.add(Dropout(0.5))\n",
    "resnet50_model_regularized.add(Dense(2, activation='softmax'))"
   ]
  },
  {
   "cell_type": "code",
   "execution_count": 26,
   "metadata": {
    "execution": {
     "iopub.execute_input": "2022-10-31T14:54:49.099258Z",
     "iopub.status.busy": "2022-10-31T14:54:49.098408Z",
     "iopub.status.idle": "2022-10-31T15:08:57.522161Z",
     "shell.execute_reply": "2022-10-31T15:08:57.523097Z",
     "shell.execute_reply.started": "2022-10-31T13:55:04.725157Z"
    },
    "papermill": {
     "duration": 853.755507,
     "end_time": "2022-10-31T15:08:57.523310",
     "exception": false,
     "start_time": "2022-10-31T14:54:43.767803",
     "status": "completed"
    },
    "tags": []
   },
   "outputs": [
    {
     "name": "stdout",
     "output_type": "stream",
     "text": [
      "Epoch 1/10\n",
      "500/500 [==============================] - 61s 113ms/step - loss: 0.2138 - categorical_accuracy: 0.9245 - precision_2: 0.9245 - recall_2: 0.9245 - val_loss: 0.4697 - val_categorical_accuracy: 0.8627 - val_precision_2: 0.8627 - val_recall_2: 0.8627\n",
      "Epoch 2/10\n",
      "500/500 [==============================] - 56s 113ms/step - loss: 0.1242 - categorical_accuracy: 0.9552 - precision_2: 0.9552 - recall_2: 0.9552 - val_loss: 0.5921 - val_categorical_accuracy: 0.8510 - val_precision_2: 0.8510 - val_recall_2: 0.8510\n",
      "Epoch 3/10\n",
      "500/500 [==============================] - 56s 112ms/step - loss: 0.1019 - categorical_accuracy: 0.9632 - precision_2: 0.9632 - recall_2: 0.9632 - val_loss: 0.4803 - val_categorical_accuracy: 0.8767 - val_precision_2: 0.8767 - val_recall_2: 0.8767\n",
      "Epoch 4/10\n",
      "500/500 [==============================] - 56s 113ms/step - loss: 0.0947 - categorical_accuracy: 0.9649 - precision_2: 0.9649 - recall_2: 0.9649 - val_loss: 0.5095 - val_categorical_accuracy: 0.8835 - val_precision_2: 0.8835 - val_recall_2: 0.8835\n",
      "Epoch 5/10\n",
      "500/500 [==============================] - 56s 111ms/step - loss: 0.0857 - categorical_accuracy: 0.9686 - precision_2: 0.9686 - recall_2: 0.9686 - val_loss: 0.5937 - val_categorical_accuracy: 0.8798 - val_precision_2: 0.8798 - val_recall_2: 0.8798\n",
      "Epoch 6/10\n",
      "500/500 [==============================] - 57s 113ms/step - loss: 0.0778 - categorical_accuracy: 0.9711 - precision_2: 0.9711 - recall_2: 0.9711 - val_loss: 0.5968 - val_categorical_accuracy: 0.8668 - val_precision_2: 0.8668 - val_recall_2: 0.8668\n",
      "Epoch 7/10\n",
      "500/500 [==============================] - 56s 112ms/step - loss: 0.0751 - categorical_accuracy: 0.9736 - precision_2: 0.9736 - recall_2: 0.9736 - val_loss: 0.5894 - val_categorical_accuracy: 0.8758 - val_precision_2: 0.8758 - val_recall_2: 0.8758\n",
      "Epoch 8/10\n",
      "500/500 [==============================] - 56s 112ms/step - loss: 0.0657 - categorical_accuracy: 0.9760 - precision_2: 0.9760 - recall_2: 0.9760 - val_loss: 0.5583 - val_categorical_accuracy: 0.8855 - val_precision_2: 0.8855 - val_recall_2: 0.8855\n",
      "Epoch 9/10\n",
      "500/500 [==============================] - 56s 112ms/step - loss: 0.0587 - categorical_accuracy: 0.9794 - precision_2: 0.9794 - recall_2: 0.9794 - val_loss: 0.6022 - val_categorical_accuracy: 0.8763 - val_precision_2: 0.8763 - val_recall_2: 0.8763\n",
      "Epoch 10/10\n",
      "500/500 [==============================] - 57s 113ms/step - loss: 0.0532 - categorical_accuracy: 0.9801 - precision_2: 0.9801 - recall_2: 0.9801 - val_loss: 0.6773 - val_categorical_accuracy: 0.8802 - val_precision_2: 0.8802 - val_recall_2: 0.8802\n"
     ]
    }
   ],
   "source": [
    "resnet50_model_regularized.compile(optimizer=Adam(learning_rate=0.001),loss='categorical_crossentropy',metrics=[tf.keras.metrics.CategoricalAccuracy(),tf.keras.metrics.Precision(), tf.keras.metrics.Recall()])\n",
    "history = resnet50_model_regularized.fit(train_generator, validation_data=validation_generator, epochs=10)"
   ]
  },
  {
   "cell_type": "code",
   "execution_count": 27,
   "metadata": {
    "execution": {
     "iopub.execute_input": "2022-10-31T15:09:13.852588Z",
     "iopub.status.busy": "2022-10-31T15:09:13.851433Z",
     "iopub.status.idle": "2022-10-31T15:09:13.994102Z",
     "shell.execute_reply": "2022-10-31T15:09:13.994517Z",
     "shell.execute_reply.started": "2022-10-31T14:03:31.414990Z"
    },
    "papermill": {
     "duration": 8.350173,
     "end_time": "2022-10-31T15:09:13.994711",
     "exception": false,
     "start_time": "2022-10-31T15:09:05.644538",
     "status": "completed"
    },
    "tags": []
   },
   "outputs": [
    {
     "data": {
      "image/png": "[encoded data removed]",
      "text/plain": [
       "<Figure size 640x480 with 1 Axes>"
      ]
     },
     "metadata": {},
     "output_type": "display_data"
    }
   ],
   "source": [
    "fig1 = plt.gcf()\n",
    "plt.plot(history.history['categorical_accuracy'])\n",
    "plt.plot(history.history['val_categorical_accuracy'])\n",
    "plt.axis(ymin=0.4,ymax=1)\n",
    "plt.grid()\n",
    "plt.title('Model Accuracy')\n",
    "plt.ylabel('Accuracy')\n",
    "plt.xlabel('Epochs')\n",
    "plt.legend(['train', 'validation'])\n",
    "plt.show()"
   ]
  },
  {
   "cell_type": "code",
   "execution_count": 28,
   "metadata": {
    "execution": {
     "iopub.execute_input": "2022-10-31T15:09:30.513352Z",
     "iopub.status.busy": "2022-10-31T15:09:30.503706Z",
     "iopub.status.idle": "2022-10-31T15:09:30.844383Z",
     "shell.execute_reply": "2022-10-31T15:09:30.843894Z"
    },
    "papermill": {
     "duration": 8.432143,
     "end_time": "2022-10-31T15:09:30.844528",
     "exception": false,
     "start_time": "2022-10-31T15:09:22.412385",
     "status": "completed"
    },
    "tags": []
   },
   "outputs": [],
   "source": [
    "resnet50_model_regularized.save(\"./resnet50_model_regularized.h5\")"
   ]
  },
  {
   "cell_type": "markdown",
   "metadata": {
    "papermill": {
     "duration": 8.594097,
     "end_time": "2022-10-31T15:09:47.650468",
     "exception": false,
     "start_time": "2022-10-31T15:09:39.056371",
     "status": "completed"
    },
    "tags": []
   },
   "source": [
    "<a href=\"./resnet50_model_regularized.h5\"> Download ResNet50 Regularized File </a>"
   ]
  },
  {
   "cell_type": "code",
   "execution_count": 30,
   "metadata": {
    "execution": {
     "iopub.execute_input": "2022-11-01T16:47:32.804849Z",
     "iopub.status.busy": "2022-11-01T16:47:32.804474Z",
     "iopub.status.idle": "2022-11-01T16:47:34.527566Z",
     "shell.execute_reply": "2022-11-01T16:47:34.526801Z",
     "shell.execute_reply.started": "2022-11-01T16:47:32.804815Z"
    }
   },
   "outputs": [],
   "source": [
    "resnet50_fine_tune1 = Sequential()\n",
    "\n",
    "pretrained_model= tf.keras.applications.ResNet50(include_top=False,\n",
    "                   input_shape=(32,32,3),\n",
    "                   pooling='avg',classes=2,\n",
    "                   weights= 'imagenet')\n",
    "for layer in pretrained_model.layers:\n",
    "        layer.trainable=True\n",
    "\n",
    "resnet50_fine_tune1.add(pretrained_model)"
   ]
  },
  {
   "cell_type": "code",
   "execution_count": 31,
   "metadata": {
    "execution": {
     "iopub.execute_input": "2022-11-01T16:47:37.337961Z",
     "iopub.status.busy": "2022-11-01T16:47:37.337578Z",
     "iopub.status.idle": "2022-11-01T16:47:37.365858Z",
     "shell.execute_reply": "2022-11-01T16:47:37.365064Z",
     "shell.execute_reply.started": "2022-11-01T16:47:37.337928Z"
    }
   },
   "outputs": [],
   "source": [
    "resnet50_fine_tune1.add(Flatten())\n",
    "resnet50_fine_tune1.add(Dense(128, activation='relu'))\n",
    "resnet50_fine_tune1.add(Dropout(0.5))\n",
    "resnet50_fine_tune1.add(Dense(2, activation='softmax'))"
   ]
  },
  {
   "cell_type": "code",
   "execution_count": 32,
   "metadata": {
    "execution": {
     "iopub.execute_input": "2022-11-01T16:47:40.241046Z",
     "iopub.status.busy": "2022-11-01T16:47:40.240687Z",
     "iopub.status.idle": "2022-11-01T17:02:12.572908Z",
     "shell.execute_reply": "2022-11-01T17:02:12.571894Z",
     "shell.execute_reply.started": "2022-11-01T16:47:40.241014Z"
    }
   },
   "outputs": [
    {
     "name": "stdout",
     "output_type": "stream",
     "text": [
      "Epoch 1/10\n",
      "500/500 [==============================] - 810s 2s/step - loss: 0.2230 - categorical_accuracy: 0.9267 - precision_3: 0.9267 - recall_3: 0.9267 - val_loss: 0.2586 - val_categorical_accuracy: 0.9062 - val_precision_3: 0.9062 - val_recall_3: 0.9062\n",
      "Epoch 2/10\n",
      "500/500 [==============================] - 818s 2s/step - loss: 0.1205 - categorical_accuracy: 0.9613 - precision_3: 0.9613 - recall_3: 0.9613 - val_loss: 0.4717 - val_categorical_accuracy: 0.8725 - val_precision_3: 0.8725 - val_recall_3: 0.8725\n",
      "Epoch 3/10\n",
      "500/500 [==============================] - 825s 2s/step - loss: 0.1188 - categorical_accuracy: 0.9597 - precision_3: 0.9597 - recall_3: 0.9597 - val_loss: 0.4584 - val_categorical_accuracy: 0.8545 - val_precision_3: 0.8545 - val_recall_3: 0.8545\n",
      "Epoch 4/10\n",
      "500/500 [==============================] - 827s 2s/step - loss: 0.0692 - categorical_accuracy: 0.9740 - precision_3: 0.9740 - recall_3: 0.9740 - val_loss: 1.0548 - val_categorical_accuracy: 0.7352 - val_precision_3: 0.7352 - val_recall_3: 0.7352\n",
      "Epoch 5/10\n",
      "500/500 [==============================] - 885s 2s/step - loss: 0.2508 - categorical_accuracy: 0.9362 - precision_3: 0.9362 - recall_3: 0.9362 - val_loss: 0.3919 - val_categorical_accuracy: 0.9118 - val_precision_3: 0.9118 - val_recall_3: 0.9118\n",
      "Epoch 6/10\n",
      "500/500 [==============================] - 899s 2s/step - loss: 0.0908 - categorical_accuracy: 0.9693 - precision_3: 0.9693 - recall_3: 0.9693 - val_loss: 0.3150 - val_categorical_accuracy: 0.8890 - val_precision_3: 0.8890 - val_recall_3: 0.8890\n",
      "Epoch 7/10\n",
      "500/500 [==============================] - 906s 2s/step - loss: 0.1356 - categorical_accuracy: 0.9545 - precision_3: 0.9545 - recall_3: 0.9545 - val_loss: 0.3292 - val_categorical_accuracy: 0.8832 - val_precision_3: 0.8832 - val_recall_3: 0.8832\n",
      "Epoch 8/10\n",
      "500/500 [==============================] - 904s 2s/step - loss: 0.1489 - categorical_accuracy: 0.9478 - precision_3: 0.9478 - recall_3: 0.9478 - val_loss: 1.1842 - val_categorical_accuracy: 0.8092 - val_precision_3: 0.8092 - val_recall_3: 0.8092\n",
      "Epoch 9/10\n",
      "500/500 [==============================] - 922s 2s/step - loss: 0.1323 - categorical_accuracy: 0.9594 - precision_3: 0.9594 - recall_3: 0.9594 - val_loss: 0.3645 - val_categorical_accuracy: 0.8770 - val_precision_3: 0.8770 - val_recall_3: 0.8770\n",
      "Epoch 10/10\n",
      "500/500 [==============================] - 824s 2s/step - loss: 0.0664 - categorical_accuracy: 0.9750 - precision_3: 0.9750 - recall_3: 0.9750 - val_loss: 0.4275 - val_categorical_accuracy: 0.8775 - val_precision_3: 0.8775 - val_recall_3: 0.8775\n"
     ]
    }
   ],
   "source": [
    "resnet50_fine_tune1.compile(optimizer=Adam(learning_rate=0.001),loss='categorical_crossentropy',metrics=[tf.keras.metrics.CategoricalAccuracy(),tf.keras.metrics.Precision(), tf.keras.metrics.Recall()])\n",
    "history = resnet50_fine_tune1.fit(train_generator, validation_data=validation_generator, epochs=10)"
   ]
  },
  {
   "cell_type": "code",
   "execution_count": 33,
   "metadata": {
    "execution": {
     "iopub.execute_input": "2022-11-01T17:02:59.137436Z",
     "iopub.status.busy": "2022-11-01T17:02:59.137099Z",
     "iopub.status.idle": "2022-11-01T17:02:59.303265Z",
     "shell.execute_reply": "2022-11-01T17:02:59.302376Z",
     "shell.execute_reply.started": "2022-11-01T17:02:59.137406Z"
    }
   },
   "outputs": [
    {
     "data": {
      "image/png": "[encoded data removed]",
      "text/plain": [
       "<Figure size 640x480 with 1 Axes>"
      ]
     },
     "metadata": {},
     "output_type": "display_data"
    }
   ],
   "source": [
    "fig1 = plt.gcf()\n",
    "plt.plot(history.history['categorical_accuracy'])\n",
    "plt.plot(history.history['val_categorical_accuracy'])\n",
    "plt.axis(ymin=0.4,ymax=1)\n",
    "plt.grid()\n",
    "plt.title('Model Accuracy')\n",
    "plt.ylabel('Accuracy')\n",
    "plt.xlabel('Epochs')\n",
    "plt.legend(['train', 'validation'])\n",
    "plt.show()"
   ]
  },
  {
   "cell_type": "code",
   "execution_count": 36,
   "metadata": {
    "execution": {
     "iopub.execute_input": "2022-11-01T16:45:28.592241Z",
     "iopub.status.busy": "2022-11-01T16:45:28.591865Z",
     "iopub.status.idle": "2022-11-01T16:45:29.501533Z",
     "shell.execute_reply": "2022-11-01T16:45:29.500594Z",
     "shell.execute_reply.started": "2022-11-01T16:45:28.592211Z"
    }
   },
   "outputs": [],
   "source": [
    "resnet50_fine_tune1.save(\"./resnet50_fine_tune1.h5\")"
   ]
  },
  {
   "cell_type": "code",
   "execution_count": 2,
   "metadata": {},
   "outputs": [],
   "source": [
    "from tensorflow import keras\n",
    "\n",
    "# Load the model\n",
    "model = keras.models.load_model('cnn.h5')\n"
   ]
  },
  {
   "cell_type": "code",
   "execution_count": 5,
   "metadata": {
    "scrolled": true
   },
   "outputs": [
    {
     "name": "stdout",
     "output_type": "stream",
     "text": [
      "125/125 [==============================] - 87s 643ms/step\n"
     ]
    },
    {
     "data": {
      "image/png": "[encoded data removed]",
      "text/plain": [
       "<Figure size 432x288 with 2 Axes>"
      ]
     },
     "metadata": {
      "needs_background": "light"
     },
     "output_type": "display_data"
    },
    {
     "data": {
      "image/png": "[encoded data removed]",
      "text/plain": [
       "<Figure size 432x288 with 2 Axes>"
      ]
     },
     "metadata": {
      "needs_background": "light"
     },
     "output_type": "display_data"
    }
   ],
   "source": [
    "import numpy as np\n",
    "from sklearn.metrics import confusion_matrix\n",
    "import matplotlib.pyplot as plt\n",
    "import itertools\n",
    "\n",
    "# Get the predicted classes\n",
    "y_pred = model.predict(validation_generator)\n",
    "y_pred_classes = np.argmax(y_pred, axis=1)\n",
    "\n",
    "# Get the true classes\n",
    "y_true = validation_generator.classes\n",
    "\n",
    "# Get the class labels\n",
    "class_labels = list(validation_generator.class_indices.keys())\n",
    "\n",
    "# Calculate the confusion matrix\n",
    "confusion_mtx = confusion_matrix(y_true, y_pred_classes)\n",
    "\n",
    "# Plot the confusion matrix\n",
    "def plot_confusion_matrix(cm, classes,\n",
    "                          normalize=False,\n",
    "                          title='Confusion matrix',\n",
    "                          cmap=plt.cm.Blues):\n",
    "    \n",
    "    if normalize:\n",
    "        cm = cm.astype('float') / cm.sum(axis=1)[:, np.newaxis]\n",
    "    \n",
    "    plt.imshow(cm, interpolation='nearest', cmap=cmap)\n",
    "    plt.title(title)\n",
    "    plt.colorbar()\n",
    "    tick_marks = np.arange(len(classes))\n",
    "    plt.xticks(tick_marks, classes, rotation=45)\n",
    "    plt.yticks(tick_marks, classes)\n",
    "    \n",
    "    fmt = '.2f' if normalize else 'd'\n",
    "    thresh = cm.max() / 2.\n",
    "    for i, j in itertools.product(range(cm.shape[0]), range(cm.shape[1])):\n",
    "        plt.text(j, i, format(cm[i, j], fmt),\n",
    "                 horizontalalignment=\"center\",\n",
    "                 color=\"black\")\n",
    "    \n",
    "    plt.tight_layout()\n",
    "    plt.ylabel('True label')\n",
    "    plt.xlabel('Predicted label')\n",
    "\n",
    "# Plot non-normalized confusion matrix\n",
    "plt.figure()\n",
    "plot_confusion_matrix(confusion_mtx, classes=class_labels,\n",
    "                      title='Confusion matrix, without normalization')\n",
    "\n",
    "# Plot normalized confusion matrix\n",
    "plt.figure()\n",
    "plot_confusion_matrix(confusion_mtx, classes=class_labels, normalize=True,\n",
    "                      title='Normalized confusion matrix')\n",
    "\n",
    "plt.show()\n"
   ]
  },
  {
   "cell_type": "code",
   "execution_count": 6,
   "metadata": {},
   "outputs": [
    {
     "name": "stdout",
     "output_type": "stream",
     "text": [
      "125/125 [==============================] - 69s 457ms/step\n"
     ]
    },
    {
     "data": {
      "image/png": "[encoded data removed]",
      "text/plain": [
       "<Figure size 432x288 with 2 Axes>"
      ]
     },
     "metadata": {
      "needs_background": "light"
     },
     "output_type": "display_data"
    },
    {
     "data": {
      "image/png": "[encoded data removed]",
      "text/plain": [
       "<Figure size 432x288 with 2 Axes>"
      ]
     },
     "metadata": {
      "needs_background": "light"
     },
     "output_type": "display_data"
    }
   ],
   "source": [
    "model = keras.models.load_model('resnet50.h5')\n",
    "\n",
    "import numpy as np\n",
    "from sklearn.metrics import confusion_matrix\n",
    "import matplotlib.pyplot as plt\n",
    "import itertools\n",
    "\n",
    "# Get the predicted classes\n",
    "y_pred = model.predict(validation_generator)\n",
    "y_pred_classes = np.argmax(y_pred, axis=1)\n",
    "\n",
    "# Get the true classes\n",
    "y_true = validation_generator.classes\n",
    "\n",
    "# Get the class labels\n",
    "class_labels = list(validation_generator.class_indices.keys())\n",
    "\n",
    "# Calculate the confusion matrix\n",
    "confusion_mtx = confusion_matrix(y_true, y_pred_classes)\n",
    "\n",
    "# Plot the confusion matrix\n",
    "def plot_confusion_matrix(cm, classes,\n",
    "                          normalize=False,\n",
    "                          title='Confusion matrix',\n",
    "                          cmap=plt.cm.Blues):\n",
    "    \n",
    "    if normalize:\n",
    "        cm = cm.astype('float') / cm.sum(axis=1)[:, np.newaxis]\n",
    "    \n",
    "    plt.imshow(cm, interpolation='nearest', cmap=cmap)\n",
    "    plt.title(title)\n",
    "    plt.colorbar()\n",
    "    tick_marks = np.arange(len(classes))\n",
    "    plt.xticks(tick_marks, classes, rotation=45)\n",
    "    plt.yticks(tick_marks, classes)\n",
    "    \n",
    "    fmt = '.2f' if normalize else 'd'\n",
    "    thresh = cm.max() / 2.\n",
    "    for i, j in itertools.product(range(cm.shape[0]), range(cm.shape[1])):\n",
    "        plt.text(j, i, format(cm[i, j], fmt),\n",
    "                 horizontalalignment=\"center\",\n",
    "                 color=\"black\")\n",
    "    \n",
    "    plt.tight_layout()\n",
    "    plt.ylabel('True label')\n",
    "    plt.xlabel('Predicted label')\n",
    "\n",
    "# Plot non-normalized confusion matrix\n",
    "plt.figure()\n",
    "plot_confusion_matrix(confusion_mtx, classes=class_labels,\n",
    "                      title='Confusion matrix, without normalization')\n",
    "\n",
    "# Plot normalized confusion matrix\n",
    "plt.figure()\n",
    "plot_confusion_matrix(confusion_mtx, classes=class_labels, normalize=True,\n",
    "                      title='Normalized confusion matrix')\n",
    "\n",
    "plt.show()\n"
   ]
  },
  {
   "cell_type": "code",
   "execution_count": 7,
   "metadata": {},
   "outputs": [
    {
     "name": "stdout",
     "output_type": "stream",
     "text": [
      "125/125 [==============================] - 61s 467ms/step\n"
     ]
    },
    {
     "data": {
      "image/png": "[encoded data removed]",
      "text/plain": [
       "<Figure size 432x288 with 2 Axes>"
      ]
     },
     "metadata": {
      "needs_background": "light"
     },
     "output_type": "display_data"
    },
    {
     "data": {
      "image/png": "[encoded data removed]",
      "text/plain": [
       "<Figure size 432x288 with 2 Axes>"
      ]
     },
     "metadata": {
      "needs_background": "light"
     },
     "output_type": "display_data"
    }
   ],
   "source": [
    "model = keras.models.load_model('resnet50_model_regularized.h5')\n",
    "\n",
    "import numpy as np\n",
    "from sklearn.metrics import confusion_matrix\n",
    "import matplotlib.pyplot as plt\n",
    "import itertools\n",
    "\n",
    "# Get the predicted classes\n",
    "y_pred = model.predict(validation_generator)\n",
    "y_pred_classes = np.argmax(y_pred, axis=1)\n",
    "\n",
    "# Get the true classes\n",
    "y_true = validation_generator.classes\n",
    "\n",
    "# Get the class labels\n",
    "class_labels = list(validation_generator.class_indices.keys())\n",
    "\n",
    "# Calculate the confusion matrix\n",
    "confusion_mtx = confusion_matrix(y_true, y_pred_classes)\n",
    "\n",
    "# Plot the confusion matrix\n",
    "def plot_confusion_matrix(cm, classes,\n",
    "                          normalize=False,\n",
    "                          title='Confusion matrix',\n",
    "                          cmap=plt.cm.Blues):\n",
    "    \n",
    "    if normalize:\n",
    "        cm = cm.astype('float') / cm.sum(axis=1)[:, np.newaxis]\n",
    "    \n",
    "    plt.imshow(cm, interpolation='nearest', cmap=cmap)\n",
    "    plt.title(title)\n",
    "    plt.colorbar()\n",
    "    tick_marks = np.arange(len(classes))\n",
    "    plt.xticks(tick_marks, classes, rotation=45)\n",
    "    plt.yticks(tick_marks, classes)\n",
    "    \n",
    "    fmt = '.2f' if normalize else 'd'\n",
    "    thresh = cm.max() / 2.\n",
    "    for i, j in itertools.product(range(cm.shape[0]), range(cm.shape[1])):\n",
    "        plt.text(j, i, format(cm[i, j], fmt),\n",
    "                 horizontalalignment=\"center\",\n",
    "                 color=\"black\")\n",
    "    \n",
    "    plt.tight_layout()\n",
    "    plt.ylabel('True label')\n",
    "    plt.xlabel('Predicted label')\n",
    "\n",
    "# Plot non-normalized confusion matrix\n",
    "plt.figure()\n",
    "plot_confusion_matrix(confusion_mtx, classes=class_labels,\n",
    "                      title='Confusion matrix, without normalization')\n",
    "\n",
    "# Plot normalized confusion matrix\n",
    "plt.figure()\n",
    "plot_confusion_matrix(confusion_mtx, classes=class_labels, normalize=True,\n",
    "                      title='Normalized confusion matrix')\n",
    "\n",
    "plt.show()\n"
   ]
  },
  {
   "cell_type": "code",
   "execution_count": 8,
   "metadata": {
    "scrolled": true
   },
   "outputs": [
    {
     "name": "stdout",
     "output_type": "stream",
     "text": [
      "125/125 [==============================] - 75s 493ms/step\n"
     ]
    },
    {
     "data": {
      "image/png": "[encoded data removed]",
      "text/plain": [
       "<Figure size 432x288 with 2 Axes>"
      ]
     },
     "metadata": {
      "needs_background": "light"
     },
     "output_type": "display_data"
    },
    {
     "data": {
      "image/png": "[encoded data removed]",
      "text/plain": [
       "<Figure size 432x288 with 2 Axes>"
      ]
     },
     "metadata": {
      "needs_background": "light"
     },
     "output_type": "display_data"
    }
   ],
   "source": [
    "model = keras.models.load_model('resnet50_fine_tune1.h5')\n",
    "\n",
    "import numpy as np\n",
    "from sklearn.metrics import confusion_matrix\n",
    "import matplotlib.pyplot as plt\n",
    "import itertools\n",
    "\n",
    "# Get the predicted classes\n",
    "y_pred = model.predict(validation_generator)\n",
    "y_pred_classes = np.argmax(y_pred, axis=1)\n",
    "\n",
    "# Get the true classes\n",
    "y_true = validation_generator.classes\n",
    "\n",
    "# Get the class labels\n",
    "class_labels = list(validation_generator.class_indices.keys())\n",
    "\n",
    "# Calculate the confusion matrix\n",
    "confusion_mtx = confusion_matrix(y_true, y_pred_classes)\n",
    "\n",
    "# Plot the confusion matrix\n",
    "def plot_confusion_matrix(cm, classes,\n",
    "                          normalize=False,\n",
    "                          title='Confusion matrix',\n",
    "                          cmap=plt.cm.Blues):\n",
    "    \n",
    "    if normalize:\n",
    "        cm = cm.astype('float') / cm.sum(axis=1)[:, np.newaxis]\n",
    "    \n",
    "    plt.imshow(cm, interpolation='nearest', cmap=cmap)\n",
    "    plt.title(title)\n",
    "    plt.colorbar()\n",
    "    tick_marks = np.arange(len(classes))\n",
    "    plt.xticks(tick_marks, classes, rotation=45)\n",
    "    plt.yticks(tick_marks, classes)\n",
    "    \n",
    "    fmt = '.2f' if normalize else 'd'\n",
    "    thresh = cm.max() / 2.\n",
    "    for i, j in itertools.product(range(cm.shape[0]), range(cm.shape[1])):\n",
    "        plt.text(j, i, format(cm[i, j], fmt),\n",
    "                 horizontalalignment=\"center\",\n",
    "                 color=\"black\")\n",
    "    \n",
    "    plt.tight_layout()\n",
    "    plt.ylabel('True label')\n",
    "    plt.xlabel('Predicted label')\n",
    "\n",
    "# Plot non-normalized confusion matrix\n",
    "plt.figure()\n",
    "plot_confusion_matrix(confusion_mtx, classes=class_labels,\n",
    "                      title='Confusion matrix, without normalization')\n",
    "\n",
    "# Plot normalized confusion matrix\n",
    "plt.figure()\n",
    "plot_confusion_matrix(confusion_mtx, classes=class_labels, normalize=True,\n",
    "                      title='Normalized confusion matrix')\n",
    "\n",
    "plt.show()\n"
   ]
  },
  {
   "cell_type": "code",
   "execution_count": 13,
   "metadata": {},
   "outputs": [
    {
     "name": "stdout",
     "output_type": "stream",
     "text": [
      "Found 2000 images belonging to 2 classes.\n"
     ]
    }
   ],
   "source": [
    "from tensorflow.keras.preprocessing.image import ImageDataGenerator\n",
    "data_dir = r\"C:\\Users\\tarak\\Downloads\\drowsiness-detection-main\\Dataset\\Test_Dataset\"\n",
    "# Create test generator\n",
    "test_datagen = ImageDataGenerator()\n",
    "test_generator = test_datagen.flow_from_directory(\n",
    "    data_dir,\n",
    "    target_size=(32,32),\n",
    "    batch_size=32,\n",
    "    shuffle=False,\n",
    "    class_mode='categorical',\n",
    "    subset=None)\n",
    "\n",
    "# Get the test images and labels\n",
    "test_images, test_labels = next(test_generator)   "
   ]
  },
  {
   "cell_type": "code",
   "execution_count": 25,
   "metadata": {},
   "outputs": [
    {
     "name": "stdout",
     "output_type": "stream",
     "text": [
      "1/1 - 1s - loss: 3.9115e-06 - categorical_accuracy: 1.0000 - precision: 1.0000 - recall: 1.0000 - 721ms/epoch - 721ms/step\n",
      "1/1 - 3s - loss: 2.9774e-05 - categorical_accuracy: 1.0000 - precision_1: 1.0000 - recall_1: 1.0000 - 3s/epoch - 3s/step\n",
      "1/1 - 3s - loss: 1.9313e-04 - categorical_accuracy: 1.0000 - precision_2: 1.0000 - recall_2: 1.0000 - 3s/epoch - 3s/step\n",
      "1/1 - 3s - loss: 4.4961e-05 - categorical_accuracy: 1.0000 - precision_3: 1.0000 - recall_3: 1.0000 - 3s/epoch - 3s/step\n"
     ]
    },
    {
     "ename": "TypeError",
     "evalue": "unsupported operand type(s) for -: 'int' and 'list'",
     "output_type": "error",
     "traceback": [
      "\u001b[1;31m---------------------------------------------------------------------------\u001b[0m",
      "\u001b[1;31mTypeError\u001b[0m                                 Traceback (most recent call last)",
      "Input \u001b[1;32mIn [25]\u001b[0m, in \u001b[0;36m<cell line: 22>\u001b[1;34m()\u001b[0m\n\u001b[0;32m     18\u001b[0m     test_loss\u001b[38;5;241m.\u001b[39mappend(loss)\n\u001b[0;32m     19\u001b[0m \u001b[38;5;66;03m#     test_acc.append(acc)\u001b[39;00m\n\u001b[0;32m     20\u001b[0m \n\u001b[0;32m     21\u001b[0m \u001b[38;5;66;03m# Calculate accuracy from loss\u001b[39;00m\n\u001b[1;32m---> 22\u001b[0m test_acc \u001b[38;5;241m=\u001b[39m [\u001b[38;5;241m1\u001b[39m \u001b[38;5;241m-\u001b[39m loss \u001b[38;5;28;01mfor\u001b[39;00m loss \u001b[38;5;129;01min\u001b[39;00m test_loss]\n\u001b[0;32m     24\u001b[0m \u001b[38;5;66;03m# Plot accuracy comparison graph\u001b[39;00m\n\u001b[0;32m     25\u001b[0m plt\u001b[38;5;241m.\u001b[39mbar(model_names, test_acc)\n",
      "Input \u001b[1;32mIn [25]\u001b[0m, in \u001b[0;36m<listcomp>\u001b[1;34m(.0)\u001b[0m\n\u001b[0;32m     18\u001b[0m     test_loss\u001b[38;5;241m.\u001b[39mappend(loss)\n\u001b[0;32m     19\u001b[0m \u001b[38;5;66;03m#     test_acc.append(acc)\u001b[39;00m\n\u001b[0;32m     20\u001b[0m \n\u001b[0;32m     21\u001b[0m \u001b[38;5;66;03m# Calculate accuracy from loss\u001b[39;00m\n\u001b[1;32m---> 22\u001b[0m test_acc \u001b[38;5;241m=\u001b[39m [\u001b[38;5;241;43m1\u001b[39;49m\u001b[43m \u001b[49m\u001b[38;5;241;43m-\u001b[39;49m\u001b[43m \u001b[49m\u001b[43mloss\u001b[49m \u001b[38;5;28;01mfor\u001b[39;00m loss \u001b[38;5;129;01min\u001b[39;00m test_loss]\n\u001b[0;32m     24\u001b[0m \u001b[38;5;66;03m# Plot accuracy comparison graph\u001b[39;00m\n\u001b[0;32m     25\u001b[0m plt\u001b[38;5;241m.\u001b[39mbar(model_names, test_acc)\n",
      "\u001b[1;31mTypeError\u001b[0m: unsupported operand type(s) for -: 'int' and 'list'"
     ]
    }
   ],
   "source": [
    "import tensorflow as tf\n",
    "import matplotlib.pyplot as plt\n",
    "\n",
    "# Load saved models\n",
    "model_names = ['cnn.h5', 'resnet50.h5', 'resnet50_model_regularized.h5', 'resnet50_fine_tune1.h5']\n",
    "models = []\n",
    "\n",
    "for name in model_names:\n",
    "    model = tf.keras.models.load_model(name)\n",
    "    models.append(model)\n",
    "\n",
    "# Evaluate models on test set\n",
    "test_loss = []\n",
    "# test_acc = []\n",
    "\n",
    "for model in models:\n",
    "    loss = model.evaluate(test_images, test_labels, verbose=2)\n",
    "    test_loss.append(loss)\n",
    "#     test_acc.append(acc)\n",
    "\n",
    "# Calculate accuracy from loss\n",
    "test_acc = [1 - loss for loss in test_loss]\n",
    "\n",
    "# Plot accuracy comparison graph\n",
    "plt.bar(model_names, test_acc)\n",
    "plt.title('Accuracy Comparison')\n",
    "plt.xlabel('Model')\n",
    "plt.ylabel('Accuracy')\n",
    "plt.ylim([0.8, 1])\n",
    "plt.show()\n"
   ]
  },
  {
   "cell_type": "code",
   "execution_count": 20,
   "metadata": {},
   "outputs": [
    {
     "name": "stdout",
     "output_type": "stream",
     "text": [
      "You must install pydot (`pip install pydot`) and install graphviz (see instructions at https://graphviz.gitlab.io/download/) for plot_model to work.\n"
     ]
    }
   ],
   "source": [
    "from keras.models import load_model\n",
    "from keras.utils.vis_utils import plot_model\n",
    "\n",
    "# Load the saved model\n",
    "model = load_model('cnn.h5')\n",
    "\n",
    "# Plot the CNN architecture\n",
    "plot_model(model, to_file='cnn_architecture.png', show_shapes=True)\n"
   ]
  },
  {
   "cell_type": "code",
   "execution_count": null,
   "metadata": {},
   "outputs": [],
   "source": []
  }
 ],
 "metadata": {
  "kernelspec": {
   "display_name": "Python 3 (ipykernel)",
   "language": "python",
   "name": "python3"
  },
  "language_info": {
   "codemirror_mode": {
    "name": "ipython",
    "version": 3
   },
   "file_extension": ".py",
   "mimetype": "text/x-python",
   "name": "python",
   "nbconvert_exporter": "python",
   "pygments_lexer": "ipython3",
   "version": "3.9.12"
  },
  "papermill": {
   "default_parameters": {},
   "duration": 3934.750294,
   "end_time": "2022-10-31T15:26:50.628009",
   "environment_variables": {},
   "exception": null,
   "input_path": "__notebook__.ipynb",
   "output_path": "__notebook__.ipynb",
   "parameters": {},
   "start_time": "2022-10-31T14:21:15.877715",
   "version": "2.2.2"
  }
 },
 "nbformat": 4,
 "nbformat_minor": 4
}
